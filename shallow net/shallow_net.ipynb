{
 "cells": [
  {
   "cell_type": "code",
   "execution_count": 1,
   "metadata": {},
   "outputs": [
    {
     "name": "stderr",
     "output_type": "stream",
     "text": [
      "Using TensorFlow backend.\n"
     ]
    }
   ],
   "source": [
    "from sklearn.preprocessing import LabelBinarizer\n",
    "from sklearn.metrics import classification_report\n",
    "from keras.optimizers import SGD\n",
    "from keras.datasets import cifar10\n",
    "import matplotlib.pyplot as plt\n",
    "%matplotlib inline\n",
    "import numpy as np"
   ]
  },
  {
   "cell_type": "code",
   "execution_count": 2,
   "metadata": {
    "collapsed": true
   },
   "outputs": [],
   "source": [
    "from keras.models import Sequential\n",
    "from keras.layers.convolutional import Conv2D\n",
    "from keras.layers.core import Activation\n",
    "from keras.layers.core import Flatten\n",
    "from keras.layers.core import Dense\n",
    "from keras import backend as K"
   ]
  },
  {
   "cell_type": "code",
   "execution_count": 3,
   "metadata": {},
   "outputs": [],
   "source": [
    "((train_x, train_y), (test_x, test_y)) = cifar10.load_data()\n",
    "train_x = train_x.astype(\"float\") / 255.0\n",
    "test_x = test_x.astype(\"float\") / 255.0"
   ]
  },
  {
   "cell_type": "code",
   "execution_count": 4,
   "metadata": {
    "collapsed": true
   },
   "outputs": [],
   "source": [
    "lb = LabelBinarizer()\n",
    "train_y = lb.fit_transform(train_y)\n",
    "test_y = lb.transform(test_y)"
   ]
  },
  {
   "cell_type": "code",
   "execution_count": 5,
   "metadata": {
    "collapsed": true
   },
   "outputs": [],
   "source": [
    "labelNames = [\"airplane\", \"automobile\", \"bird\", \"cat\", \"deer\", \"dog\", \"frog\", \"horse\", \"ship\", \"truck\"]"
   ]
  },
  {
   "cell_type": "code",
   "execution_count": 6,
   "metadata": {},
   "outputs": [],
   "source": [
    "model = Sequential()\n",
    "input_shape = (32, 32, 3)\n",
    "model.add(Conv2D(32, (3, 3), padding='same', input_shape=input_shape))\n",
    "model.add(Activation('relu'))\n",
    "\n",
    "model.add(Flatten())\n",
    "model.add(Dense(10))\n",
    "model.add(Activation('softmax'))"
   ]
  },
  {
   "cell_type": "code",
   "execution_count": 7,
   "metadata": {},
   "outputs": [
    {
     "name": "stdout",
     "output_type": "stream",
     "text": [
      "Compiling the model here....\n"
     ]
    }
   ],
   "source": [
    "print('Compiling the model here....')\n",
    "sgd = SGD(lr=0.01)\n",
    "model.compile(loss=\"categorical_crossentropy\", optimizer=sgd, metrics=[\"accuracy\"])"
   ]
  },
  {
   "cell_type": "code",
   "execution_count": 8,
   "metadata": {},
   "outputs": [
    {
     "name": "stdout",
     "output_type": "stream",
     "text": [
      "Training the model here....\n",
      "Train on 50000 samples, validate on 10000 samples\n",
      "Epoch 1/40\n",
      "50000/50000 [==============================] - 23s 451us/step - loss: 1.8163 - acc: 0.3623 - val_loss: 1.6416 - val_acc: 0.4343\n",
      "Epoch 2/40\n",
      "50000/50000 [==============================] - 26s 513us/step - loss: 1.5786 - acc: 0.4524 - val_loss: 1.5279 - val_acc: 0.4565\n",
      "Epoch 3/40\n",
      "50000/50000 [==============================] - 25s 494us/step - loss: 1.4234 - acc: 0.5022 - val_loss: 1.3949 - val_acc: 0.5027\n",
      "Epoch 4/40\n",
      "50000/50000 [==============================] - 25s 496us/step - loss: 1.3330 - acc: 0.5323 - val_loss: 1.3746 - val_acc: 0.5040\n",
      "Epoch 5/40\n",
      "50000/50000 [==============================] - 27s 541us/step - loss: 1.2773 - acc: 0.5541 - val_loss: 1.2969 - val_acc: 0.5375\n",
      "Epoch 6/40\n",
      "50000/50000 [==============================] - 25s 504us/step - loss: 1.2355 - acc: 0.5670 - val_loss: 1.3021 - val_acc: 0.5348\n",
      "Epoch 7/40\n",
      "50000/50000 [==============================] - 27s 530us/step - loss: 1.2032 - acc: 0.5808 - val_loss: 1.3925 - val_acc: 0.5071\n",
      "Epoch 8/40\n",
      "50000/50000 [==============================] - 29s 572us/step - loss: 1.1734 - acc: 0.5909 - val_loss: 1.2779 - val_acc: 0.5406\n",
      "Epoch 9/40\n",
      "50000/50000 [==============================] - 27s 538us/step - loss: 1.1472 - acc: 0.6014 - val_loss: 1.3008 - val_acc: 0.5455\n",
      "Epoch 10/40\n",
      "50000/50000 [==============================] - 28s 555us/step - loss: 1.1220 - acc: 0.6098 - val_loss: 1.2505 - val_acc: 0.5621\n",
      "Epoch 11/40\n",
      "50000/50000 [==============================] - 27s 540us/step - loss: 1.0995 - acc: 0.6184 - val_loss: 1.2227 - val_acc: 0.5687\n",
      "Epoch 12/40\n",
      "50000/50000 [==============================] - 26s 517us/step - loss: 1.0804 - acc: 0.6230 - val_loss: 1.2601 - val_acc: 0.5552\n",
      "Epoch 13/40\n",
      "50000/50000 [==============================] - 28s 555us/step - loss: 1.0637 - acc: 0.6297 - val_loss: 1.2126 - val_acc: 0.5733\n",
      "Epoch 14/40\n",
      "50000/50000 [==============================] - 27s 530us/step - loss: 1.0455 - acc: 0.6367 - val_loss: 1.2956 - val_acc: 0.5450\n",
      "Epoch 15/40\n",
      "50000/50000 [==============================] - 27s 539us/step - loss: 1.0294 - acc: 0.6422 - val_loss: 1.2277 - val_acc: 0.5704\n",
      "Epoch 16/40\n",
      "50000/50000 [==============================] - 28s 564us/step - loss: 1.0119 - acc: 0.6494 - val_loss: 1.3174 - val_acc: 0.5341\n",
      "Epoch 17/40\n",
      "50000/50000 [==============================] - 28s 551us/step - loss: 0.9978 - acc: 0.6527 - val_loss: 1.1966 - val_acc: 0.5784\n",
      "Epoch 18/40\n",
      "50000/50000 [==============================] - 25s 504us/step - loss: 0.9833 - acc: 0.6602 - val_loss: 1.1825 - val_acc: 0.5855\n",
      "Epoch 19/40\n",
      "50000/50000 [==============================] - 29s 588us/step - loss: 0.9678 - acc: 0.6642 - val_loss: 1.2726 - val_acc: 0.5559\n",
      "Epoch 20/40\n",
      "50000/50000 [==============================] - 26s 519us/step - loss: 0.9543 - acc: 0.6694 - val_loss: 1.2191 - val_acc: 0.5777\n",
      "Epoch 21/40\n",
      "50000/50000 [==============================] - 25s 500us/step - loss: 0.9408 - acc: 0.6740 - val_loss: 1.2264 - val_acc: 0.5782\n",
      "Epoch 22/40\n",
      "50000/50000 [==============================] - 25s 492us/step - loss: 0.9276 - acc: 0.6788 - val_loss: 1.2150 - val_acc: 0.5774\n",
      "Epoch 23/40\n",
      "50000/50000 [==============================] - 24s 488us/step - loss: 0.9154 - acc: 0.6830 - val_loss: 1.2644 - val_acc: 0.5718\n",
      "Epoch 24/40\n",
      "50000/50000 [==============================] - 25s 504us/step - loss: 0.9016 - acc: 0.6889 - val_loss: 1.2254 - val_acc: 0.5748\n",
      "Epoch 25/40\n",
      "50000/50000 [==============================] - 26s 513us/step - loss: 0.8898 - acc: 0.6900 - val_loss: 1.2046 - val_acc: 0.5844\n",
      "Epoch 26/40\n",
      "50000/50000 [==============================] - 26s 528us/step - loss: 0.8766 - acc: 0.6971 - val_loss: 1.2458 - val_acc: 0.5750\n",
      "Epoch 27/40\n",
      "50000/50000 [==============================] - 26s 518us/step - loss: 0.8646 - acc: 0.7000 - val_loss: 1.2180 - val_acc: 0.5850\n",
      "Epoch 28/40\n",
      "50000/50000 [==============================] - 26s 514us/step - loss: 0.8510 - acc: 0.7078 - val_loss: 1.2487 - val_acc: 0.5742\n",
      "Epoch 29/40\n",
      "50000/50000 [==============================] - 28s 558us/step - loss: 0.8397 - acc: 0.7099 - val_loss: 1.2026 - val_acc: 0.5894\n",
      "Epoch 30/40\n",
      "50000/50000 [==============================] - 25s 494us/step - loss: 0.8249 - acc: 0.7153 - val_loss: 1.1980 - val_acc: 0.5914\n",
      "Epoch 31/40\n",
      "50000/50000 [==============================] - 27s 546us/step - loss: 0.8148 - acc: 0.7179 - val_loss: 1.2025 - val_acc: 0.5872\n",
      "Epoch 32/40\n",
      "50000/50000 [==============================] - 27s 532us/step - loss: 0.8016 - acc: 0.7229 - val_loss: 1.2265 - val_acc: 0.5854\n",
      "Epoch 33/40\n",
      "50000/50000 [==============================] - 27s 535us/step - loss: 0.7887 - acc: 0.7279 - val_loss: 1.2571 - val_acc: 0.5823\n",
      "Epoch 34/40\n",
      "50000/50000 [==============================] - 27s 537us/step - loss: 0.7787 - acc: 0.7319 - val_loss: 1.2300 - val_acc: 0.5865\n",
      "Epoch 35/40\n",
      "50000/50000 [==============================] - 27s 548us/step - loss: 0.7668 - acc: 0.7370 - val_loss: 1.2260 - val_acc: 0.5905\n",
      "Epoch 36/40\n",
      "50000/50000 [==============================] - 25s 503us/step - loss: 0.7579 - acc: 0.7377 - val_loss: 1.2435 - val_acc: 0.5848\n",
      "Epoch 37/40\n",
      "50000/50000 [==============================] - 27s 550us/step - loss: 0.7437 - acc: 0.7448 - val_loss: 1.2886 - val_acc: 0.5810\n",
      "Epoch 38/40\n",
      "50000/50000 [==============================] - 26s 529us/step - loss: 0.7323 - acc: 0.7505 - val_loss: 1.2147 - val_acc: 0.5970\n",
      "Epoch 39/40\n",
      "50000/50000 [==============================] - 25s 500us/step - loss: 0.7240 - acc: 0.7524 - val_loss: 1.2659 - val_acc: 0.5817\n",
      "Epoch 40/40\n",
      "50000/50000 [==============================] - 27s 550us/step - loss: 0.7125 - acc: 0.7564 - val_loss: 1.2021 - val_acc: 0.6025\n"
     ]
    }
   ],
   "source": [
    "print(\"Training the model here....\")\n",
    "hist = model.fit(train_x, train_y, validation_data=(test_x, test_y), batch_size=32, epochs=40, verbose=1)"
   ]
  },
  {
   "cell_type": "code",
   "execution_count": 9,
   "metadata": {},
   "outputs": [
    {
     "name": "stdout",
     "output_type": "stream",
     "text": [
      "Testing the model.. \n",
      "10000/10000 [==============================] - 2s 194us/step\n",
      "Test score: 1.20205554409\n",
      "Test accuracy: 0.6025\n"
     ]
    }
   ],
   "source": [
    "print('Testing the model.. ')\n",
    "score = model.evaluate(test_x, test_y,verbose=1)\n",
    "print('Test score:', score[0])\n",
    "print('Test accuracy:', score[1])"
   ]
  },
  {
   "cell_type": "code",
   "execution_count": 10,
   "metadata": {},
   "outputs": [
    {
     "data": {
      "text/plain": [
       "<matplotlib.legend.Legend at 0x7fcd3d704828>"
      ]
     },
     "execution_count": 10,
     "metadata": {},
     "output_type": "execute_result"
    },
    {
     "data": {
      "image/png": "[encoded data removed]",
      "text/plain": [
       "<Figure size 432x288 with 1 Axes>"
      ]
     },
     "metadata": {},
     "output_type": "display_data"
    }
   ],
   "source": [
    "plt.style.use('ggplot')\n",
    "plt.figure()\n",
    "plt.plot(np.arange(0, 40), hist.history['loss'], label='train_loss')\n",
    "plt.plot(np.arange(0, 40), hist.history['val_loss'], label='val_loss')\n",
    "plt.plot(np.arange(0, 40), hist.history['acc'], label='train_acc')\n",
    "plt.plot(np.arange(0, 40), hist.history['val_acc'], label='val_acc')\n",
    "plt.title('Training Loss & Accuracy')\n",
    "plt.xlabel('Epoch #')\n",
    "plt.ylabel('Loss/Accuracy')\n",
    "plt.legend()"
   ]
  },
  {
   "cell_type": "code",
   "execution_count": null,
   "metadata": {
    "collapsed": true
   },
   "outputs": [],
   "source": []
  }
 ],
 "metadata": {
  "kernelspec": {
   "display_name": "Python 3",
   "language": "python",
   "name": "python3"
  },
  "language_info": {
   "codemirror_mode": {
    "name": "ipython",
    "version": 3
   },
   "file_extension": ".py",
   "mimetype": "text/x-python",
   "name": "python",
   "nbconvert_exporter": "python",
   "pygments_lexer": "ipython3",
   "version": "3.6.3"
  }
 },
 "nbformat": 4,
 "nbformat_minor": 2
}
