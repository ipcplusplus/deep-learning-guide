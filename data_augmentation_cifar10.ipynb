{
 "cells": [
  {
   "cell_type": "code",
   "execution_count": 1,
   "metadata": {},
   "outputs": [
    {
     "name": "stderr",
     "output_type": "stream",
     "text": [
      "Using TensorFlow backend.\n"
     ]
    }
   ],
   "source": [
    "import keras\n",
    "from keras.datasets import cifar10\n",
    "from keras.models import Sequential\n",
    "from keras.layers import Dense, Dropout, Activation, Flatten\n",
    "from keras.layers import Conv2D, MaxPooling2D\n",
    "from keras.callbacks import LearningRateScheduler\n",
    "import os\n",
    "import matplotlib.pyplot as plt\n",
    "import numpy as np"
   ]
  },
  {
   "cell_type": "code",
   "execution_count": 2,
   "metadata": {},
   "outputs": [
    {
     "name": "stdout",
     "output_type": "stream",
     "text": [
      "x_train shape: (50000, 32, 32, 3)\n",
      "50000 train samples\n",
      "10000 test samples\n"
     ]
    }
   ],
   "source": [
    "(x_train, y_train), (x_test, y_test) = cifar10.load_data()\n",
    "print('x_train shape:', x_train.shape)\n",
    "print(x_train.shape[0], 'train samples')\n",
    "print(x_test.shape[0], 'test samples')"
   ]
  },
  {
   "cell_type": "code",
   "execution_count": 3,
   "metadata": {
    "collapsed": true
   },
   "outputs": [],
   "source": [
    "x_train = x_train.astype('float32') / 255.0\n",
    "x_test = x_test.astype('float32') / 255.0"
   ]
  },
  {
   "cell_type": "code",
   "execution_count": 4,
   "metadata": {},
   "outputs": [],
   "source": [
    "# Convert class vectors to binary class matrices.\n",
    "num_classes = 10\n",
    "y_train = keras.utils.to_categorical(y_train, num_classes)\n",
    "y_test = keras.utils.to_categorical(y_test, num_classes)"
   ]
  },
  {
   "cell_type": "code",
   "execution_count": 5,
   "metadata": {},
   "outputs": [
    {
     "name": "stdout",
     "output_type": "stream",
     "text": [
      "_________________________________________________________________\n",
      "Layer (type)                 Output Shape              Param #   \n",
      "=================================================================\n",
      "conv2d_1 (Conv2D)            (None, 32, 32, 32)        896       \n",
      "_________________________________________________________________\n",
      "activation_1 (Activation)    (None, 32, 32, 32)        0         \n",
      "_________________________________________________________________\n",
      "conv2d_2 (Conv2D)            (None, 30, 30, 32)        9248      \n",
      "_________________________________________________________________\n",
      "activation_2 (Activation)    (None, 30, 30, 32)        0         \n",
      "_________________________________________________________________\n",
      "max_pooling2d_1 (MaxPooling2 (None, 15, 15, 32)        0         \n",
      "_________________________________________________________________\n",
      "dropout_1 (Dropout)          (None, 15, 15, 32)        0         \n",
      "_________________________________________________________________\n",
      "conv2d_3 (Conv2D)            (None, 15, 15, 64)        18496     \n",
      "_________________________________________________________________\n",
      "activation_3 (Activation)    (None, 15, 15, 64)        0         \n",
      "_________________________________________________________________\n",
      "conv2d_4 (Conv2D)            (None, 13, 13, 64)        36928     \n",
      "_________________________________________________________________\n",
      "activation_4 (Activation)    (None, 13, 13, 64)        0         \n",
      "_________________________________________________________________\n",
      "max_pooling2d_2 (MaxPooling2 (None, 6, 6, 64)          0         \n",
      "_________________________________________________________________\n",
      "dropout_2 (Dropout)          (None, 6, 6, 64)          0         \n",
      "_________________________________________________________________\n",
      "flatten_1 (Flatten)          (None, 2304)              0         \n",
      "_________________________________________________________________\n",
      "dense_1 (Dense)              (None, 512)               1180160   \n",
      "_________________________________________________________________\n",
      "activation_5 (Activation)    (None, 512)               0         \n",
      "_________________________________________________________________\n",
      "dropout_3 (Dropout)          (None, 512)               0         \n",
      "_________________________________________________________________\n",
      "dense_2 (Dense)              (None, 10)                5130      \n",
      "_________________________________________________________________\n",
      "activation_6 (Activation)    (None, 10)                0         \n",
      "=================================================================\n",
      "Total params: 1,250,858\n",
      "Trainable params: 1,250,858\n",
      "Non-trainable params: 0\n",
      "_________________________________________________________________\n"
     ]
    }
   ],
   "source": [
    "model = Sequential()\n",
    "model.add(Conv2D(32, (3, 3), padding='same',input_shape=x_train.shape[1:]))\n",
    "model.add(Activation('relu'))\n",
    "model.add(Conv2D(32, (3, 3)))\n",
    "model.add(Activation('relu'))\n",
    "model.add(MaxPooling2D(pool_size=(2, 2)))\n",
    "model.add(Dropout(0.25))\n",
    "\n",
    "model.add(Conv2D(64, (3, 3), padding='same'))\n",
    "model.add(Activation('relu'))\n",
    "model.add(Conv2D(64, (3, 3)))\n",
    "model.add(Activation('relu'))\n",
    "model.add(MaxPooling2D(pool_size=(2, 2)))\n",
    "model.add(Dropout(0.25))\n",
    "\n",
    "model.add(Flatten())\n",
    "model.add(Dense(512))\n",
    "model.add(Activation('relu'))\n",
    "model.add(Dropout(0.5))\n",
    "model.add(Dense(num_classes))\n",
    "model.add(Activation('softmax'))\n",
    "model.summary()"
   ]
  },
  {
   "cell_type": "code",
   "execution_count": 6,
   "metadata": {
    "collapsed": true
   },
   "outputs": [],
   "source": [
    "from keras.preprocessing.image import ImageDataGenerator\n",
    "\n",
    "datagen = ImageDataGenerator(\n",
    "        rotation_range=40,\n",
    "        width_shift_range=0.2,\n",
    "        height_shift_range=0.2,\n",
    "        rescale=1./255,\n",
    "        shear_range=0.2,\n",
    "        zoom_range=0.2,\n",
    "        horizontal_flip=True,\n",
    "        fill_mode='nearest')\n",
    "\n",
    "datagen.fit(x_train)"
   ]
  },
  {
   "cell_type": "code",
   "execution_count": 7,
   "metadata": {},
   "outputs": [],
   "source": [
    "opt1= keras.optimizers.rmsprop(lr=0.0001, decay=1e-6)\n",
    "#opt2 = keras.optimizers.SGD(lr=lr_schedule(0), momentum=0.9, nesterov=True)"
   ]
  },
  {
   "cell_type": "code",
   "execution_count": 8,
   "metadata": {
    "collapsed": true
   },
   "outputs": [],
   "source": [
    "model.compile(loss='categorical_crossentropy',\n",
    "              optimizer=opt1,\n",
    "              metrics=['accuracy'])"
   ]
  },
  {
   "cell_type": "code",
   "execution_count": 9,
   "metadata": {
    "collapsed": true
   },
   "outputs": [],
   "source": [
    "batch_size = 32\n",
    "epochs = 40\n",
    "num_predictions = 20"
   ]
  },
  {
   "cell_type": "code",
   "execution_count": 10,
   "metadata": {},
   "outputs": [
    {
     "name": "stdout",
     "output_type": "stream",
     "text": [
      "Epoch 1/40\n",
      "1562/1562 [==============================] - 144s 92ms/step - loss: 14.4879 - acc: 0.1007 - val_loss: 14.5063 - val_acc: 0.1000\n",
      "Epoch 2/40\n",
      "1562/1562 [==============================] - 149s 95ms/step - loss: 14.5109 - acc: 0.0997 - val_loss: 14.5063 - val_acc: 0.1000\n",
      "Epoch 3/40\n",
      "1562/1562 [==============================] - 147s 94ms/step - loss: 14.5071 - acc: 0.1000 - val_loss: 14.5063 - val_acc: 0.1000\n",
      "Epoch 4/40\n",
      "1562/1562 [==============================] - 150s 96ms/step - loss: 14.4896 - acc: 0.1010 - val_loss: 14.5063 - val_acc: 0.1000\n",
      "Epoch 5/40\n",
      "1562/1562 [==============================] - 152s 97ms/step - loss: 14.5038 - acc: 0.1002 - val_loss: 14.5063 - val_acc: 0.1000\n",
      "Epoch 6/40\n",
      "1562/1562 [==============================] - 150s 96ms/step - loss: 14.5074 - acc: 0.0999 - val_loss: 14.5063 - val_acc: 0.1000\n",
      "Epoch 7/40\n",
      "1562/1562 [==============================] - 143s 91ms/step - loss: 14.5132 - acc: 0.0996 - val_loss: 14.5063 - val_acc: 0.1000\n",
      "Epoch 8/40\n",
      "1562/1562 [==============================] - 145s 93ms/step - loss: 14.4793 - acc: 0.1017 - val_loss: 14.5063 - val_acc: 0.1000\n",
      "Epoch 9/40\n",
      "1562/1562 [==============================] - 152s 97ms/step - loss: 14.5006 - acc: 0.1004 - val_loss: 14.5063 - val_acc: 0.1000\n",
      "Epoch 10/40\n",
      "1562/1562 [==============================] - 154s 98ms/step - loss: 14.5145 - acc: 0.0995 - val_loss: 14.5063 - val_acc: 0.1000\n",
      "Epoch 11/40\n",
      "1562/1562 [==============================] - 149s 95ms/step - loss: 14.5064 - acc: 0.1000 - val_loss: 14.5063 - val_acc: 0.1000\n",
      "Epoch 12/40\n",
      "1562/1562 [==============================] - 152s 97ms/step - loss: 14.4948 - acc: 0.1007 - val_loss: 14.5063 - val_acc: 0.1000\n",
      "Epoch 13/40\n",
      "1562/1562 [==============================] - 150s 96ms/step - loss: 14.5206 - acc: 0.0991 - val_loss: 14.5063 - val_acc: 0.1000\n",
      "Epoch 14/40\n",
      "1562/1562 [==============================] - 145s 93ms/step - loss: 14.5003 - acc: 0.1004 - val_loss: 14.5063 - val_acc: 0.1000\n",
      "Epoch 15/40\n",
      "1562/1562 [==============================] - 144s 92ms/step - loss: 14.4829 - acc: 0.1015 - val_loss: 14.5063 - val_acc: 0.1000\n",
      "Epoch 16/40\n",
      "1562/1562 [==============================] - 138s 88ms/step - loss: 14.4838 - acc: 0.1014 - val_loss: 14.5063 - val_acc: 0.1000\n",
      "Epoch 17/40\n",
      "1562/1562 [==============================] - 137s 88ms/step - loss: 14.4922 - acc: 0.1009 - val_loss: 14.5063 - val_acc: 0.1000\n",
      "Epoch 18/40\n",
      "1562/1562 [==============================] - 139s 89ms/step - loss: 14.5113 - acc: 0.0997 - val_loss: 14.5063 - val_acc: 0.1000\n",
      "Epoch 19/40\n",
      "1562/1562 [==============================] - 148s 95ms/step - loss: 14.5216 - acc: 0.0991 - val_loss: 14.5063 - val_acc: 0.1000\n",
      "Epoch 20/40\n",
      "1562/1562 [==============================] - 149s 96ms/step - loss: 14.5116 - acc: 0.0997 - val_loss: 14.5063 - val_acc: 0.1000\n",
      "Epoch 21/40\n",
      "1562/1562 [==============================] - 151s 96ms/step - loss: 14.5225 - acc: 0.0990 - val_loss: 14.5063 - val_acc: 0.1000\n",
      "Epoch 22/40\n",
      "1562/1562 [==============================] - 149s 95ms/step - loss: 14.5187 - acc: 0.0992 - val_loss: 14.5063 - val_acc: 0.1000\n",
      "Epoch 23/40\n",
      "1562/1562 [==============================] - 148s 95ms/step - loss: 14.4929 - acc: 0.1008 - val_loss: 14.5063 - val_acc: 0.1000\n",
      "Epoch 24/40\n",
      "1562/1562 [==============================] - 153s 98ms/step - loss: 14.5154 - acc: 0.0994 - val_loss: 14.5063 - val_acc: 0.1000\n",
      "Epoch 25/40\n",
      "1562/1562 [==============================] - 150s 96ms/step - loss: 14.4829 - acc: 0.1015 - val_loss: 14.5063 - val_acc: 0.1000\n",
      "Epoch 26/40\n",
      "1562/1562 [==============================] - 159s 102ms/step - loss: 14.5051 - acc: 0.1001 - val_loss: 14.5063 - val_acc: 0.1000\n",
      "Epoch 27/40\n",
      "1562/1562 [==============================] - 150s 96ms/step - loss: 14.4951 - acc: 0.1007 - val_loss: 14.5063 - val_acc: 0.1000\n",
      "Epoch 28/40\n",
      "1562/1562 [==============================] - 152s 98ms/step - loss: 14.5151 - acc: 0.0995 - val_loss: 14.5063 - val_acc: 0.1000\n",
      "Epoch 29/40\n",
      "1562/1562 [==============================] - 150s 96ms/step - loss: 14.5254 - acc: 0.0988 - val_loss: 14.5063 - val_acc: 0.1000\n",
      "Epoch 30/40\n",
      "1562/1562 [==============================] - 149s 96ms/step - loss: 14.5164 - acc: 0.0994 - val_loss: 14.5063 - val_acc: 0.1000\n",
      "Epoch 31/40\n",
      "1562/1562 [==============================] - 144s 92ms/step - loss: 14.5154 - acc: 0.0994 - val_loss: 14.5063 - val_acc: 0.1000\n",
      "Epoch 32/40\n",
      "1562/1562 [==============================] - 146s 93ms/step - loss: 14.5003 - acc: 0.1004 - val_loss: 14.5063 - val_acc: 0.1000\n",
      "Epoch 33/40\n",
      "1562/1562 [==============================] - 152s 97ms/step - loss: 14.4922 - acc: 0.1009 - val_loss: 14.5063 - val_acc: 0.1000\n",
      "Epoch 34/40\n",
      "1562/1562 [==============================] - 151s 97ms/step - loss: 14.4809 - acc: 0.1016 - val_loss: 14.5063 - val_acc: 0.1000\n",
      "Epoch 35/40\n",
      "1562/1562 [==============================] - 151s 97ms/step - loss: 14.5161 - acc: 0.0994 - val_loss: 14.5063 - val_acc: 0.1000\n",
      "Epoch 36/40\n",
      "1562/1562 [==============================] - 141s 90ms/step - loss: 14.4916 - acc: 0.1009 - val_loss: 14.5063 - val_acc: 0.1000\n",
      "Epoch 37/40\n",
      "1562/1562 [==============================] - 137s 88ms/step - loss: 14.4842 - acc: 0.1014 - val_loss: 14.5063 - val_acc: 0.1000\n",
      "Epoch 38/40\n",
      "1562/1562 [==============================] - 137s 88ms/step - loss: 14.5003 - acc: 0.1004 - val_loss: 14.5063 - val_acc: 0.1000\n",
      "Epoch 39/40\n",
      "1562/1562 [==============================] - 137s 88ms/step - loss: 14.5022 - acc: 0.1003 - val_loss: 14.5063 - val_acc: 0.1000\n",
      "Epoch 40/40\n",
      "1562/1562 [==============================] - 137s 88ms/step - loss: 14.5074 - acc: 0.0999 - val_loss: 14.5063 - val_acc: 0.1000\n"
     ]
    }
   ],
   "source": [
    "hist = model.fit_generator(datagen.flow(x_train, y_train, batch_size=batch_size),\n",
    "                    steps_per_epoch=x_train.shape[0] // batch_size,\n",
    "                    epochs=epochs,\n",
    "                    verbose=1,\n",
    "                    validation_data=(x_test,y_test),\n",
    "                    callbacks=[LearningRateScheduler(lambda x: 1. / (1. + x))])"
   ]
  },
  {
   "cell_type": "code",
   "execution_count": 11,
   "metadata": {},
   "outputs": [
    {
     "name": "stdout",
     "output_type": "stream",
     "text": [
      "             precision    recall  f1-score   support\n",
      "\n",
      "   airplane       0.00      0.00      0.00      1000\n",
      " automobile       0.00      0.00      0.00      1000\n",
      "       bird       0.00      0.00      0.00      1000\n",
      "        cat       0.10      1.00      0.18      1000\n",
      "       deer       0.00      0.00      0.00      1000\n",
      "        dog       0.00      0.00      0.00      1000\n",
      "       frog       0.00      0.00      0.00      1000\n",
      "      horse       0.00      0.00      0.00      1000\n",
      "       ship       0.00      0.00      0.00      1000\n",
      "      truck       0.00      0.00      0.00      1000\n",
      "\n",
      "avg / total       0.01      0.10      0.02     10000\n",
      "\n"
     ]
    },
    {
     "name": "stderr",
     "output_type": "stream",
     "text": [
      "/home/iampukar/anaconda3/lib/python3.6/site-packages/sklearn/metrics/classification.py:1135: UndefinedMetricWarning: Precision and F-score are ill-defined and being set to 0.0 in labels with no predicted samples.\n",
      "  'precision', 'predicted', average, warn_for)\n"
     ]
    }
   ],
   "source": [
    "from sklearn.metrics import classification_report\n",
    "classNames =  ['airplane', 'automobile', 'bird', 'cat', 'deer', 'dog', 'frog', 'horse', 'ship', 'truck']\n",
    "\n",
    "predictions = model.predict(x_test, batch_size=32)\n",
    "print(classification_report(y_test, predictions, target_names=classNames))"
   ]
  },
  {
   "cell_type": "code",
   "execution_count": 12,
   "metadata": {},
   "outputs": [
    {
     "data": {
      "image/png": "[encoded data removed]",
      "text/plain": [
       "<Figure size 432x288 with 1 Axes>"
      ]
     },
     "metadata": {},
     "output_type": "display_data"
    }
   ],
   "source": [
    "plt.style.use(\"ggplot\")\n",
    "plt.figure()\n",
    "plt.plot(np.arange(0, epochs), hist.history[\"loss\"], label=\"train_loss\")\n",
    "plt.plot(np.arange(0, epochs), hist.history[\"val_loss\"], label=\"val_loss\")\n",
    "plt.plot(np.arange(0, epochs), hist.history[\"acc\"], label=\"train_acc\")\n",
    "plt.plot(np.arange(0, epochs), hist.history[\"val_acc\"], label=\"val_acc\")\n",
    "plt.title(\"Training Loss and Accuracy\")\n",
    "plt.xlabel(\"Epoch #\")\n",
    "plt.ylabel(\"Loss/Accuracy\")\n",
    "plt.legend()\n",
    "plt.show()"
   ]
  },
  {
   "cell_type": "code",
   "execution_count": null,
   "metadata": {
    "collapsed": true
   },
   "outputs": [],
   "source": []
  }
 ],
 "metadata": {
  "kernelspec": {
   "display_name": "Python 3",
   "language": "python",
   "name": "python3"
  },
  "language_info": {
   "codemirror_mode": {
    "name": "ipython",
    "version": 3
   },
   "file_extension": ".py",
   "mimetype": "text/x-python",
   "name": "python",
   "nbconvert_exporter": "python",
   "pygments_lexer": "ipython3",
   "version": "3.6.3"
  }
 },
 "nbformat": 4,
 "nbformat_minor": 2
}
