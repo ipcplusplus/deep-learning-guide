{
 "cells": [
  {
   "cell_type": "code",
   "execution_count": 1,
   "metadata": {
    "collapsed": true
   },
   "outputs": [],
   "source": [
    "import os\n",
    "import re\n",
    "import cv2\n",
    "import numpy as np\n",
    "\n",
    "from sklearn.neighbors import KNeighborsClassifier\n",
    "from sklearn.metrics import classification_report"
   ]
  },
  {
   "cell_type": "code",
   "execution_count": 2,
   "metadata": {
    "collapsed": true
   },
   "outputs": [],
   "source": [
    "img_width, img_height = 640, 480\n",
    "TRAIN_DIR = '../simple image classifier/train/'\n",
    "TEST_DIR = '../simple image classifier/test/'"
   ]
  },
  {
   "cell_type": "code",
   "execution_count": 3,
   "metadata": {
    "collapsed": true
   },
   "outputs": [],
   "source": [
    "train_images = [TRAIN_DIR+i for i in os.listdir(TRAIN_DIR)]\n",
    "test_images = [TEST_DIR+i for i in os.listdir(TEST_DIR)]"
   ]
  },
  {
   "cell_type": "code",
   "execution_count": 4,
   "metadata": {
    "collapsed": true
   },
   "outputs": [],
   "source": [
    "def atoi(text):\n",
    "    return int(text) if text.isdigit() else text\n",
    "\n",
    "def natural_keys(text):\n",
    "    return [ atoi(c) for c in re.split('(\\d+)', text) ]"
   ]
  },
  {
   "cell_type": "code",
   "execution_count": 5,
   "metadata": {
    "collapsed": true
   },
   "outputs": [],
   "source": [
    "def prepare_data(image):\n",
    "    data = []\n",
    "    labels = [] \n",
    "    \n",
    "    for img in image:\n",
    "        data.append(cv2.resize(cv2.imread(img), (img_width, img_height), interpolation=cv2.INTER_AREA))\n",
    "        \n",
    "    for i in image:\n",
    "        if 'bike' in i:\n",
    "            labels.append(1)\n",
    "        elif 'carsgraz' in i:\n",
    "            labels.append(0)\n",
    "        else:\n",
    "            print('Image Dataset contains other than bike and car values')\n",
    "    return (np.array(data), np.array(labels))"
   ]
  },
  {
   "cell_type": "code",
   "execution_count": 6,
   "metadata": {
    "collapsed": true
   },
   "outputs": [],
   "source": [
    "trainX, trainY = prepare_data(train_images)\n",
    "testX, testY = prepare_data(test_images)"
   ]
  },
  {
   "cell_type": "code",
   "execution_count": 7,
   "metadata": {},
   "outputs": [
    {
     "name": "stdout",
     "output_type": "stream",
     "text": [
      "[Converting all images datapoint to a single floating point number]\n",
      "[Conversion Complete]\n"
     ]
    }
   ],
   "source": [
    "print('[Converting all images datapoint to a single floating point number]')\n",
    "\n",
    "trainX = trainX.reshape((trainX.shape[0], img_width * img_height * 3)) #640 * 480 * 3 channels\n",
    "testX = testX.reshape((testX.shape[0], img_width * img_height * 3))\n",
    "\n",
    "print('[Conversion Complete]')"
   ]
  },
  {
   "cell_type": "code",
   "execution_count": 8,
   "metadata": {},
   "outputs": [
    {
     "name": "stdout",
     "output_type": "stream",
     "text": [
      "[INFO]: Classification starting....\n",
      "             precision    recall  f1-score   support\n",
      "\n",
      "          0       0.96      0.75      0.84        65\n",
      "          1       0.80      0.97      0.88        65\n",
      "\n",
      "avg / total       0.88      0.86      0.86       130\n",
      "\n"
     ]
    }
   ],
   "source": [
    "print('[INFO]: Classification starting....')\n",
    "model = KNeighborsClassifier(n_neighbors=5)\n",
    "model.fit(trainX, trainY)\n",
    "\n",
    "print(classification_report(testY, model.predict(testX)))"
   ]
  },
  {
   "cell_type": "code",
   "execution_count": null,
   "metadata": {
    "collapsed": true
   },
   "outputs": [],
   "source": []
  }
 ],
 "metadata": {
  "kernelspec": {
   "display_name": "Python 3",
   "language": "python",
   "name": "python3"
  },
  "language_info": {
   "codemirror_mode": {
    "name": "ipython",
    "version": 3
   },
   "file_extension": ".py",
   "mimetype": "text/x-python",
   "name": "python",
   "nbconvert_exporter": "python",
   "pygments_lexer": "ipython3",
   "version": "3.6.3"
  }
 },
 "nbformat": 4,
 "nbformat_minor": 2
}
