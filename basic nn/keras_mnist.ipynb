{
 "cells": [
  {
   "cell_type": "code",
   "execution_count": 1,
   "metadata": {},
   "outputs": [
    {
     "name": "stderr",
     "output_type": "stream",
     "text": [
      "Using TensorFlow backend.\n"
     ]
    }
   ],
   "source": [
    "from sklearn.preprocessing import LabelBinarizer\n",
    "from sklearn.model_selection import train_test_split\n",
    "from keras.models import Sequential\n",
    "from keras.layers.core import Dense\n",
    "from keras.optimizers import SGD\n",
    "from sklearn import datasets\n",
    "import matplotlib.pyplot as plt\n",
    "%matplotlib inline\n",
    "import numpy as np"
   ]
  },
  {
   "cell_type": "code",
   "execution_count": 2,
   "metadata": {
    "collapsed": true
   },
   "outputs": [],
   "source": [
    "from keras.datasets import mnist\n",
    "(X_train, y_train), (X_test, y_test) = mnist.load_data()"
   ]
  },
  {
   "cell_type": "code",
   "execution_count": 3,
   "metadata": {},
   "outputs": [
    {
     "name": "stdout",
     "output_type": "stream",
     "text": [
      "X_train shape (60000, 28, 28)\n",
      "y_train shape (60000,)\n",
      "X_test shape (10000, 28, 28)\n",
      "y_test shape (10000,)\n"
     ]
    }
   ],
   "source": [
    "print(\"X_train shape\", X_train.shape)\n",
    "print(\"y_train shape\", y_train.shape)\n",
    "print(\"X_test shape\", X_test.shape)\n",
    "print(\"y_test shape\", y_test.shape)"
   ]
  },
  {
   "cell_type": "code",
   "execution_count": 4,
   "metadata": {
    "collapsed": true
   },
   "outputs": [],
   "source": [
    "X_train = X_train.reshape(60000, 784).astype('float32')\n",
    "X_test = X_test.reshape(10000, 784).astype('float32')"
   ]
  },
  {
   "cell_type": "code",
   "execution_count": 5,
   "metadata": {
    "collapsed": true
   },
   "outputs": [],
   "source": [
    "lb = LabelBinarizer()\n",
    "y_train = lb.fit_transform(y_train)\n",
    "y_test = lb.fit_transform(y_test)"
   ]
  },
  {
   "cell_type": "code",
   "execution_count": 6,
   "metadata": {
    "collapsed": true
   },
   "outputs": [],
   "source": [
    "model = Sequential()\n",
    "model.add(Dense(256, input_shape=(784,), activation='sigmoid'))\n",
    "model.add(Dense(128, activation='sigmoid'))\n",
    "model.add(Dense(10, activation='softmax'))"
   ]
  },
  {
   "cell_type": "code",
   "execution_count": 7,
   "metadata": {},
   "outputs": [
    {
     "name": "stdout",
     "output_type": "stream",
     "text": [
      "Training the model here...\n",
      "Train on 60000 samples, validate on 10000 samples\n",
      "Epoch 1/100\n",
      "60000/60000 [==============================] - 2s 28us/step - loss: 1.8093 - acc: 0.5798 - val_loss: 1.3759 - val_acc: 0.7549\n",
      "Epoch 2/100\n",
      "60000/60000 [==============================] - 2s 25us/step - loss: 1.1096 - acc: 0.8039 - val_loss: 0.8760 - val_acc: 0.8439\n",
      "Epoch 3/100\n",
      "60000/60000 [==============================] - 1s 25us/step - loss: 0.7550 - acc: 0.8559 - val_loss: 0.6360 - val_acc: 0.8721\n",
      "Epoch 4/100\n",
      "60000/60000 [==============================] - 2s 25us/step - loss: 0.5789 - acc: 0.8778 - val_loss: 0.5136 - val_acc: 0.8884\n",
      "Epoch 5/100\n",
      "60000/60000 [==============================] - 2s 25us/step - loss: 0.4805 - acc: 0.8911 - val_loss: 0.4384 - val_acc: 0.8963\n",
      "Epoch 6/100\n",
      "60000/60000 [==============================] - 2s 25us/step - loss: 0.4183 - acc: 0.9004 - val_loss: 0.3901 - val_acc: 0.9042\n",
      "Epoch 7/100\n",
      "60000/60000 [==============================] - 2s 25us/step - loss: 0.3753 - acc: 0.9072 - val_loss: 0.3554 - val_acc: 0.9118\n",
      "Epoch 8/100\n",
      "60000/60000 [==============================] - 1s 25us/step - loss: 0.3439 - acc: 0.9128 - val_loss: 0.3311 - val_acc: 0.9151\n",
      "Epoch 9/100\n",
      "60000/60000 [==============================] - 2s 25us/step - loss: 0.3203 - acc: 0.9171 - val_loss: 0.3104 - val_acc: 0.9190\n",
      "Epoch 10/100\n",
      "60000/60000 [==============================] - 2s 26us/step - loss: 0.2996 - acc: 0.9209 - val_loss: 0.2961 - val_acc: 0.9203\n",
      "Epoch 11/100\n",
      "60000/60000 [==============================] - 1s 25us/step - loss: 0.2834 - acc: 0.9255 - val_loss: 0.2820 - val_acc: 0.9246\n",
      "Epoch 12/100\n",
      "60000/60000 [==============================] - 2s 25us/step - loss: 0.2693 - acc: 0.9277 - val_loss: 0.2713 - val_acc: 0.9273\n",
      "Epoch 13/100\n",
      "60000/60000 [==============================] - 2s 33us/step - loss: 0.2573 - acc: 0.9308 - val_loss: 0.2617 - val_acc: 0.9279\n",
      "Epoch 14/100\n",
      "60000/60000 [==============================] - 2s 41us/step - loss: 0.2452 - acc: 0.9340 - val_loss: 0.2509 - val_acc: 0.9303\n",
      "Epoch 15/100\n",
      "60000/60000 [==============================] - 2s 27us/step - loss: 0.2358 - acc: 0.9367 - val_loss: 0.2439 - val_acc: 0.9340\n",
      "Epoch 16/100\n",
      "60000/60000 [==============================] - 2s 25us/step - loss: 0.2273 - acc: 0.9384 - val_loss: 0.2381 - val_acc: 0.9337\n",
      "Epoch 17/100\n",
      "60000/60000 [==============================] - 1s 25us/step - loss: 0.2192 - acc: 0.9401 - val_loss: 0.2312 - val_acc: 0.9372\n",
      "Epoch 18/100\n",
      "60000/60000 [==============================] - 2s 25us/step - loss: 0.2116 - acc: 0.9421 - val_loss: 0.2240 - val_acc: 0.9386\n",
      "Epoch 19/100\n",
      "60000/60000 [==============================] - 2s 26us/step - loss: 0.2043 - acc: 0.9445 - val_loss: 0.2203 - val_acc: 0.9383\n",
      "Epoch 20/100\n",
      "60000/60000 [==============================] - 2s 27us/step - loss: 0.1975 - acc: 0.9467 - val_loss: 0.2164 - val_acc: 0.9389\n",
      "Epoch 21/100\n",
      "60000/60000 [==============================] - 2s 25us/step - loss: 0.1919 - acc: 0.9482 - val_loss: 0.2119 - val_acc: 0.9395\n",
      "Epoch 22/100\n",
      "60000/60000 [==============================] - 2s 25us/step - loss: 0.1866 - acc: 0.9498 - val_loss: 0.2063 - val_acc: 0.9397\n",
      "Epoch 23/100\n",
      "60000/60000 [==============================] - 2s 39us/step - loss: 0.1805 - acc: 0.9517 - val_loss: 0.2029 - val_acc: 0.9418\n",
      "Epoch 24/100\n",
      "60000/60000 [==============================] - 2s 36us/step - loss: 0.1752 - acc: 0.9525 - val_loss: 0.1997 - val_acc: 0.9430\n",
      "Epoch 25/100\n",
      "60000/60000 [==============================] - 2s 26us/step - loss: 0.1712 - acc: 0.9534 - val_loss: 0.1964 - val_acc: 0.9423\n",
      "Epoch 26/100\n",
      "60000/60000 [==============================] - 2s 26us/step - loss: 0.1661 - acc: 0.9549 - val_loss: 0.1942 - val_acc: 0.9447\n",
      "Epoch 27/100\n",
      "60000/60000 [==============================] - 2s 37us/step - loss: 0.1615 - acc: 0.9568 - val_loss: 0.1918 - val_acc: 0.9453\n",
      "Epoch 28/100\n",
      "60000/60000 [==============================] - 2s 39us/step - loss: 0.1578 - acc: 0.9574 - val_loss: 0.1888 - val_acc: 0.9474\n",
      "Epoch 29/100\n",
      "60000/60000 [==============================] - 2s 25us/step - loss: 0.1544 - acc: 0.9588 - val_loss: 0.1848 - val_acc: 0.9476\n",
      "Epoch 30/100\n",
      "60000/60000 [==============================] - 2s 26us/step - loss: 0.1508 - acc: 0.9594 - val_loss: 0.1842 - val_acc: 0.9454\n",
      "Epoch 31/100\n",
      "60000/60000 [==============================] - 2s 26us/step - loss: 0.1471 - acc: 0.9605 - val_loss: 0.1806 - val_acc: 0.9479\n",
      "Epoch 32/100\n",
      "60000/60000 [==============================] - 2s 27us/step - loss: 0.1435 - acc: 0.9617 - val_loss: 0.1781 - val_acc: 0.9471\n",
      "Epoch 33/100\n",
      "60000/60000 [==============================] - 2s 28us/step - loss: 0.1400 - acc: 0.9628 - val_loss: 0.1769 - val_acc: 0.9479\n",
      "Epoch 34/100\n",
      "60000/60000 [==============================] - 2s 26us/step - loss: 0.1371 - acc: 0.9640 - val_loss: 0.1745 - val_acc: 0.9482\n",
      "Epoch 35/100\n",
      "60000/60000 [==============================] - 2s 26us/step - loss: 0.1337 - acc: 0.9644 - val_loss: 0.1724 - val_acc: 0.9492\n",
      "Epoch 36/100\n",
      "60000/60000 [==============================] - 2s 27us/step - loss: 0.1312 - acc: 0.9657 - val_loss: 0.1697 - val_acc: 0.9507\n",
      "Epoch 37/100\n",
      "60000/60000 [==============================] - 2s 26us/step - loss: 0.1275 - acc: 0.9667 - val_loss: 0.1674 - val_acc: 0.9504\n",
      "Epoch 38/100\n",
      "60000/60000 [==============================] - 2s 27us/step - loss: 0.1251 - acc: 0.9674 - val_loss: 0.1677 - val_acc: 0.9507\n",
      "Epoch 39/100\n",
      "60000/60000 [==============================] - 2s 27us/step - loss: 0.1220 - acc: 0.9678 - val_loss: 0.1659 - val_acc: 0.9515\n",
      "Epoch 40/100\n",
      "60000/60000 [==============================] - 2s 26us/step - loss: 0.1189 - acc: 0.9692 - val_loss: 0.1639 - val_acc: 0.9517\n",
      "Epoch 41/100\n",
      "60000/60000 [==============================] - 2s 26us/step - loss: 0.1172 - acc: 0.9693 - val_loss: 0.1629 - val_acc: 0.9521\n",
      "Epoch 42/100\n",
      "60000/60000 [==============================] - 2s 26us/step - loss: 0.1141 - acc: 0.9708 - val_loss: 0.1605 - val_acc: 0.9522\n",
      "Epoch 43/100\n",
      "60000/60000 [==============================] - 2s 27us/step - loss: 0.1108 - acc: 0.9714 - val_loss: 0.1615 - val_acc: 0.9526\n",
      "Epoch 44/100\n",
      "60000/60000 [==============================] - 2s 39us/step - loss: 0.1093 - acc: 0.9721 - val_loss: 0.1591 - val_acc: 0.9543\n",
      "Epoch 45/100\n",
      "60000/60000 [==============================] - 2s 36us/step - loss: 0.1071 - acc: 0.9728 - val_loss: 0.1593 - val_acc: 0.9531\n",
      "Epoch 46/100\n",
      "60000/60000 [==============================] - 2s 27us/step - loss: 0.1058 - acc: 0.9728 - val_loss: 0.1570 - val_acc: 0.9539\n",
      "Epoch 47/100\n",
      "60000/60000 [==============================] - 2s 27us/step - loss: 0.1035 - acc: 0.9736 - val_loss: 0.1557 - val_acc: 0.9533\n",
      "Epoch 48/100\n",
      "60000/60000 [==============================] - 2s 39us/step - loss: 0.1014 - acc: 0.9739 - val_loss: 0.1531 - val_acc: 0.9546\n",
      "Epoch 49/100\n",
      "60000/60000 [==============================] - 2s 37us/step - loss: 0.0982 - acc: 0.9749 - val_loss: 0.1515 - val_acc: 0.9555\n",
      "Epoch 50/100\n",
      "60000/60000 [==============================] - 2s 26us/step - loss: 0.0958 - acc: 0.9759 - val_loss: 0.1518 - val_acc: 0.9548\n",
      "Epoch 51/100\n",
      "60000/60000 [==============================] - 2s 26us/step - loss: 0.0944 - acc: 0.9766 - val_loss: 0.1521 - val_acc: 0.9552\n",
      "Epoch 52/100\n",
      "60000/60000 [==============================] - 2s 37us/step - loss: 0.0918 - acc: 0.9771 - val_loss: 0.1488 - val_acc: 0.9547\n",
      "Epoch 53/100\n",
      "60000/60000 [==============================] - 2s 41us/step - loss: 0.0906 - acc: 0.9775 - val_loss: 0.1498 - val_acc: 0.9547\n",
      "Epoch 54/100\n",
      "60000/60000 [==============================] - 2s 25us/step - loss: 0.0884 - acc: 0.9781 - val_loss: 0.1499 - val_acc: 0.9566\n",
      "Epoch 55/100\n",
      "60000/60000 [==============================] - 2s 25us/step - loss: 0.0874 - acc: 0.9783 - val_loss: 0.1481 - val_acc: 0.9570\n",
      "Epoch 56/100\n",
      "60000/60000 [==============================] - 2s 26us/step - loss: 0.0855 - acc: 0.9790 - val_loss: 0.1475 - val_acc: 0.9557\n",
      "Epoch 57/100\n",
      "60000/60000 [==============================] - 2s 26us/step - loss: 0.0837 - acc: 0.9794 - val_loss: 0.1460 - val_acc: 0.9569\n",
      "Epoch 58/100\n",
      "60000/60000 [==============================] - 2s 28us/step - loss: 0.0820 - acc: 0.9798 - val_loss: 0.1464 - val_acc: 0.9569\n",
      "Epoch 59/100\n",
      "60000/60000 [==============================] - 2s 42us/step - loss: 0.0805 - acc: 0.9807 - val_loss: 0.1453 - val_acc: 0.9564\n",
      "Epoch 60/100\n",
      "60000/60000 [==============================] - 2s 35us/step - loss: 0.0791 - acc: 0.9809 - val_loss: 0.1442 - val_acc: 0.9582\n",
      "Epoch 61/100\n",
      "60000/60000 [==============================] - 2s 26us/step - loss: 0.0774 - acc: 0.9815 - val_loss: 0.1429 - val_acc: 0.9569\n",
      "Epoch 62/100\n",
      "60000/60000 [==============================] - 2s 25us/step - loss: 0.0760 - acc: 0.9821 - val_loss: 0.1430 - val_acc: 0.9565\n",
      "Epoch 63/100\n",
      "60000/60000 [==============================] - 2s 26us/step - loss: 0.0750 - acc: 0.9823 - val_loss: 0.1423 - val_acc: 0.9576\n",
      "Epoch 64/100\n",
      "60000/60000 [==============================] - 2s 25us/step - loss: 0.0734 - acc: 0.9827 - val_loss: 0.1428 - val_acc: 0.9570\n",
      "Epoch 65/100\n",
      "60000/60000 [==============================] - 2s 27us/step - loss: 0.0719 - acc: 0.9835 - val_loss: 0.1427 - val_acc: 0.9569\n",
      "Epoch 66/100\n",
      "60000/60000 [==============================] - 3s 43us/step - loss: 0.0709 - acc: 0.9835 - val_loss: 0.1408 - val_acc: 0.9583\n",
      "Epoch 67/100\n",
      "60000/60000 [==============================] - 2s 33us/step - loss: 0.0696 - acc: 0.9842 - val_loss: 0.1416 - val_acc: 0.9568\n",
      "Epoch 68/100\n",
      "60000/60000 [==============================] - 2s 25us/step - loss: 0.0682 - acc: 0.9842 - val_loss: 0.1419 - val_acc: 0.9568\n",
      "Epoch 69/100\n",
      "60000/60000 [==============================] - 1s 25us/step - loss: 0.0669 - acc: 0.9847 - val_loss: 0.1397 - val_acc: 0.9579\n",
      "Epoch 70/100\n",
      "60000/60000 [==============================] - 1s 25us/step - loss: 0.0662 - acc: 0.9849 - val_loss: 0.1402 - val_acc: 0.9582\n",
      "Epoch 71/100\n",
      "60000/60000 [==============================] - 2s 25us/step - loss: 0.0651 - acc: 0.9853 - val_loss: 0.1399 - val_acc: 0.9578\n",
      "Epoch 72/100\n",
      "60000/60000 [==============================] - 2s 27us/step - loss: 0.0640 - acc: 0.9854 - val_loss: 0.1383 - val_acc: 0.9584\n",
      "Epoch 73/100\n",
      "60000/60000 [==============================] - 2s 40us/step - loss: 0.0628 - acc: 0.9856 - val_loss: 0.1387 - val_acc: 0.9583\n",
      "Epoch 74/100\n",
      "60000/60000 [==============================] - 2s 33us/step - loss: 0.0618 - acc: 0.9863 - val_loss: 0.1381 - val_acc: 0.9583\n",
      "Epoch 75/100\n",
      "60000/60000 [==============================] - 2s 26us/step - loss: 0.0608 - acc: 0.9864 - val_loss: 0.1386 - val_acc: 0.9579\n",
      "Epoch 76/100\n",
      "60000/60000 [==============================] - 2s 26us/step - loss: 0.0599 - acc: 0.9865 - val_loss: 0.1372 - val_acc: 0.9594\n",
      "Epoch 77/100\n",
      "60000/60000 [==============================] - 2s 25us/step - loss: 0.0591 - acc: 0.9867 - val_loss: 0.1377 - val_acc: 0.9588\n",
      "Epoch 78/100\n",
      "60000/60000 [==============================] - 2s 25us/step - loss: 0.0582 - acc: 0.9872 - val_loss: 0.1371 - val_acc: 0.9581\n",
      "Epoch 79/100\n",
      "60000/60000 [==============================] - 2s 26us/step - loss: 0.0574 - acc: 0.9870 - val_loss: 0.1378 - val_acc: 0.9588\n",
      "Epoch 80/100\n",
      "60000/60000 [==============================] - 2s 26us/step - loss: 0.0568 - acc: 0.9873 - val_loss: 0.1365 - val_acc: 0.9586\n",
      "Epoch 81/100\n",
      "60000/60000 [==============================] - 2s 26us/step - loss: 0.0561 - acc: 0.9875 - val_loss: 0.1367 - val_acc: 0.9578\n",
      "Epoch 82/100\n",
      "60000/60000 [==============================] - 2s 25us/step - loss: 0.0553 - acc: 0.9876 - val_loss: 0.1367 - val_acc: 0.9574\n",
      "Epoch 83/100\n",
      "60000/60000 [==============================] - 2s 25us/step - loss: 0.0546 - acc: 0.9877 - val_loss: 0.1356 - val_acc: 0.9587\n",
      "Epoch 84/100\n",
      "60000/60000 [==============================] - 2s 26us/step - loss: 0.0538 - acc: 0.9878 - val_loss: 0.1369 - val_acc: 0.9573\n",
      "Epoch 85/100\n",
      "60000/60000 [==============================] - 2s 26us/step - loss: 0.0533 - acc: 0.9880 - val_loss: 0.1362 - val_acc: 0.9583\n",
      "Epoch 86/100\n",
      "60000/60000 [==============================] - 2s 26us/step - loss: 0.0523 - acc: 0.9882 - val_loss: 0.1360 - val_acc: 0.9589\n",
      "Epoch 87/100\n",
      "60000/60000 [==============================] - 2s 35us/step - loss: 0.0514 - acc: 0.9884 - val_loss: 0.1359 - val_acc: 0.9586\n",
      "Epoch 88/100\n",
      "60000/60000 [==============================] - 2s 40us/step - loss: 0.0510 - acc: 0.9886 - val_loss: 0.1362 - val_acc: 0.9590\n",
      "Epoch 89/100\n",
      "60000/60000 [==============================] - 2s 26us/step - loss: 0.0506 - acc: 0.9885 - val_loss: 0.1358 - val_acc: 0.9586\n",
      "Epoch 90/100\n",
      "60000/60000 [==============================] - 2s 27us/step - loss: 0.0497 - acc: 0.9888 - val_loss: 0.1350 - val_acc: 0.9592\n",
      "Epoch 91/100\n",
      "60000/60000 [==============================] - 2s 26us/step - loss: 0.0492 - acc: 0.9889 - val_loss: 0.1356 - val_acc: 0.9581\n",
      "Epoch 92/100\n",
      "60000/60000 [==============================] - 2s 26us/step - loss: 0.0487 - acc: 0.9890 - val_loss: 0.1353 - val_acc: 0.9579\n",
      "Epoch 93/100\n",
      "60000/60000 [==============================] - 2s 26us/step - loss: 0.0483 - acc: 0.9890 - val_loss: 0.1354 - val_acc: 0.9587\n",
      "Epoch 94/100\n",
      "60000/60000 [==============================] - 2s 37us/step - loss: 0.0478 - acc: 0.9893 - val_loss: 0.1352 - val_acc: 0.9585\n",
      "Epoch 95/100\n",
      "60000/60000 [==============================] - 2s 39us/step - loss: 0.0474 - acc: 0.9892 - val_loss: 0.1348 - val_acc: 0.9588\n",
      "Epoch 96/100\n",
      "60000/60000 [==============================] - 2s 25us/step - loss: 0.0468 - acc: 0.9895 - val_loss: 0.1350 - val_acc: 0.9584\n",
      "Epoch 97/100\n",
      "60000/60000 [==============================] - 2s 26us/step - loss: 0.0463 - acc: 0.9894 - val_loss: 0.1344 - val_acc: 0.9584\n",
      "Epoch 98/100\n",
      "60000/60000 [==============================] - 2s 26us/step - loss: 0.0457 - acc: 0.9896 - val_loss: 0.1342 - val_acc: 0.9583\n",
      "Epoch 99/100\n",
      "60000/60000 [==============================] - 2s 26us/step - loss: 0.0452 - acc: 0.9897 - val_loss: 0.1347 - val_acc: 0.9589\n",
      "Epoch 100/100\n",
      "60000/60000 [==============================] - 2s 26us/step - loss: 0.0448 - acc: 0.9898 - val_loss: 0.1345 - val_acc: 0.9582\n"
     ]
    }
   ],
   "source": [
    "print('Training the model here...')\n",
    "sgd = SGD(0.01)\n",
    "model.compile(loss='categorical_crossentropy', optimizer=sgd, metrics=['accuracy'])\n",
    "hist = model.fit(X_train, y_train, validation_data=(X_test, y_test), epochs=100, batch_size=128)"
   ]
  },
  {
   "cell_type": "code",
   "execution_count": 8,
   "metadata": {},
   "outputs": [
    {
     "name": "stdout",
     "output_type": "stream",
     "text": [
      "Testing the model.. \n",
      "10000/10000 [==============================] - 0s 28us/step\n",
      "Test score: 0.134469467293\n",
      "Test accuracy: 0.9582\n"
     ]
    }
   ],
   "source": [
    "print('Testing the model.. ')\n",
    "score = model.evaluate(X_test, y_test,verbose=1)\n",
    "print('Test score:', score[0])\n",
    "print('Test accuracy:', score[1])"
   ]
  },
  {
   "cell_type": "code",
   "execution_count": 9,
   "metadata": {},
   "outputs": [
    {
     "data": {
      "text/plain": [
       "<matplotlib.legend.Legend at 0x7f6fa5bffa20>"
      ]
     },
     "execution_count": 9,
     "metadata": {},
     "output_type": "execute_result"
    },
    {
     "data": {
      "image/png": "[encoded data removed]",
      "text/plain": [
       "<Figure size 432x288 with 1 Axes>"
      ]
     },
     "metadata": {},
     "output_type": "display_data"
    }
   ],
   "source": [
    "plt.style.use('ggplot')\n",
    "plt.figure()\n",
    "plt.plot(np.arange(0, 100), hist.history['loss'], label='train_loss')\n",
    "plt.plot(np.arange(0, 100), hist.history['val_loss'], label='val_loss')\n",
    "plt.plot(np.arange(0, 100), hist.history['acc'], label='train_acc')\n",
    "plt.plot(np.arange(0, 100), hist.history['val_acc'], label='val_acc')\n",
    "plt.title('Training Loss & Accuracy')\n",
    "plt.xlabel('Epoch #')\n",
    "plt.ylabel('Loss/Accuracy')\n",
    "plt.legend()"
   ]
  },
  {
   "cell_type": "code",
   "execution_count": null,
   "metadata": {
    "collapsed": true
   },
   "outputs": [],
   "source": []
  }
 ],
 "metadata": {
  "kernelspec": {
   "display_name": "Python 3",
   "language": "python",
   "name": "python3"
  },
  "language_info": {
   "codemirror_mode": {
    "name": "ipython",
    "version": 3
   },
   "file_extension": ".py",
   "mimetype": "text/x-python",
   "name": "python",
   "nbconvert_exporter": "python",
   "pygments_lexer": "ipython3",
   "version": "3.6.3"
  }
 },
 "nbformat": 4,
 "nbformat_minor": 2
}
